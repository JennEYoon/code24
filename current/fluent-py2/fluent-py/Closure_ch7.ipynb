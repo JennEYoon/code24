{
  "nbformat": 4,
  "nbformat_minor": 0,
  "metadata": {
    "colab": {
      "provenance": [],
      "authorship_tag": "ABX9TyOg2AfsWlw+SNm1+qGsnZkg",
      "include_colab_link": true
    },
    "kernelspec": {
      "name": "python3",
      "display_name": "Python 3"
    },
    "language_info": {
      "name": "python"
    }
  },
  "cells": [
    {
      "cell_type": "markdown",
      "metadata": {
        "id": "view-in-github",
        "colab_type": "text"
      },
      "source": [
        "<a href=\"https://colab.research.google.com/github/JennEYoon/code/blob/main/current/learn-py2/Closure_ch7.ipynb\" target=\"_parent\"><img src=\"https://colab.research.google.com/assets/colab-badge.svg\" alt=\"Open In Colab\"/></a>"
      ]
    },
    {
      "cell_type": "code",
      "execution_count": 3,
      "metadata": {
        "id": "3HuoSaJDrWg8"
      },
      "outputs": [],
      "source": [
        "class Averager():\n",
        "  \n",
        "  def __init__(self):\n",
        "    # initialize class  \n",
        "    self.series = []\n",
        "\n",
        "  def __call__(self, new_value):\n",
        "    # call method, allows class to be called like a function.  \n",
        "    self.series.append(new_value)\n",
        "    total = sum(self.series)\n",
        "    units = len(self.series)\n",
        "    return total/units\n",
        " \n"
      ]
    },
    {
      "cell_type": "code",
      "source": [
        "# Call with values [10, 11, 12, 13]\n",
        "avg = Averager()\n",
        "print(avg(10))\n",
        "print(avg(11))\n",
        "print(avg(12))\n",
        "print(avg(13))\n",
        "\n",
        "\n"
      ],
      "metadata": {
        "colab": {
          "base_uri": "https://localhost:8080/"
        },
        "id": "_-ZPjJgPrtZ0",
        "outputId": "9bd99b18-7a45-435b-c68b-ae910f1802f0"
      },
      "execution_count": 6,
      "outputs": [
        {
          "output_type": "stream",
          "name": "stdout",
          "text": [
            "10.0\n",
            "10.5\n",
            "11.0\n",
            "11.5\n"
          ]
        }
      ]
    }
  ]
}
