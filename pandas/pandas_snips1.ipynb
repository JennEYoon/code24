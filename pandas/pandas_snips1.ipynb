{
  "nbformat": 4,
  "nbformat_minor": 0,
  "metadata": {
    "colab": {
      "provenance": [],
      "authorship_tag": "ABX9TyN+V2HiKzMIaTit7WY9Ze+n",
      "include_colab_link": true
    },
    "kernelspec": {
      "name": "python3",
      "display_name": "Python 3"
    },
    "language_info": {
      "name": "python"
    }
  },
  "cells": [
    {
      "cell_type": "markdown",
      "metadata": {
        "id": "view-in-github",
        "colab_type": "text"
      },
      "source": [
        "<a href=\"https://colab.research.google.com/github/JennEYoon/code24/blob/main/pandas/pandas_snips1.ipynb\" target=\"_parent\"><img src=\"https://colab.research.google.com/assets/colab-badge.svg\" alt=\"Open In Colab\"/></a>"
      ]
    },
    {
      "cell_type": "markdown",
      "source": [
        "Panddas practice  \n",
        "repo: code24  "
      ],
      "metadata": {
        "id": "pHz1KzUtkvz0"
      }
    },
    {
      "cell_type": "code",
      "source": [
        "import pandas as pd\n",
        "import numpy as np\n",
        "\n",
        "df = pd.read_csv('file1.csv')\n",
        "print(df.head())\n"
      ],
      "metadata": {
        "colab": {
          "base_uri": "https://localhost:8080/"
        },
        "id": "uUFv5KJBkqUt",
        "outputId": "e376367a-4626-4d6f-888c-8581f35db07d"
      },
      "execution_count": 1,
      "outputs": [
        {
          "output_type": "stream",
          "name": "stdout",
          "text": [
            "   ID                          Name   Price   Category\n",
            "0   1   Irresitable Blooms stampset   20.00          1\n",
            "1   2     Irresitable Blooms dieset   35.00          2\n",
            "2   3           Trusty Tools dieset    0.00          2\n",
            "3   4                     Tools dsp    0.00          3\n",
            "4   5                    Blooms dsp   12.99          3\n"
          ]
        }
      ]
    },
    {
      "cell_type": "code",
      "source": [
        "\n",
        "df.to_csv('file2.csv')"
      ],
      "metadata": {
        "id": "OnGgT_gVkqXd"
      },
      "execution_count": null,
      "outputs": []
    },
    {
      "cell_type": "code",
      "source": [],
      "metadata": {
        "id": "xSit0-cBkqbA"
      },
      "execution_count": null,
      "outputs": []
    }
  ]
}