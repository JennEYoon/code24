{
  "nbformat": 4,
  "nbformat_minor": 0,
  "metadata": {
    "colab": {
      "provenance": [],
      "authorship_tag": "ABX9TyPmyfWSvCciYRjL5VXmTI6+",
      "include_colab_link": true
    },
    "kernelspec": {
      "name": "python3",
      "display_name": "Python 3"
    },
    "language_info": {
      "name": "python"
    }
  },
  "cells": [
    {
      "cell_type": "markdown",
      "metadata": {
        "id": "view-in-github",
        "colab_type": "text"
      },
      "source": [
        "<a href=\"https://colab.research.google.com/github/JennEYoon/code24/blob/main/pandas/pandas_to_excel.ipynb\" target=\"_parent\"><img src=\"https://colab.research.google.com/assets/colab-badge.svg\" alt=\"Open In Colab\"/></a>"
      ]
    },
    {
      "cell_type": "code",
      "execution_count": 6,
      "metadata": {
        "colab": {
          "base_uri": "https://localhost:8080/"
        },
        "id": "_Z7uXyTYonZu",
        "outputId": "a68ff578-9113-4791-92b4-0eb29c142741"
      },
      "outputs": [
        {
          "output_type": "stream",
          "name": "stdout",
          "text": [
            "  employees hire_date\n",
            "0      Mary      2000\n",
            "1      Hank      1998\n",
            "2  Jennifer      1992\n",
            "3    Joo-In      2012\n"
          ]
        }
      ],
      "source": [
        "# Practice, Pandas and Excel file format\n",
        "\n",
        "import pandas as pd\n",
        "from pandas import ExcelWriter as writer\n",
        "\n",
        "data = {'employees':['Mary', 'Hank', 'Jennifer', 'Joo-In'], 'hire_date':['2000', '1998', '1992', '2012']}\n",
        "df1 = pd.DataFrame(data)\n",
        "print(df1.head())\n",
        "\n",
        "with writer('employees.xlsx') as f:\n",
        "  df1.to_excel(f, sheet_name='Sheet_1')\n",
        "\n",
        "\n"
      ]
    },
    {
      "cell_type": "code",
      "source": [],
      "metadata": {
        "id": "LNHs_zeb1fWY"
      },
      "execution_count": null,
      "outputs": []
    },
    {
      "cell_type": "code",
      "source": [
        "data2 = {'employees':['Mary', 'Joo-In', 'Hank', 'Jennifer'], 'salary':[102, 58, 115, 220]}\n",
        "print(data2)\n",
        "df2 = pd.DataFrame(data2)\n",
        "print(df2.head())"
      ],
      "metadata": {
        "colab": {
          "base_uri": "https://localhost:8080/"
        },
        "id": "ZvdUOjLMopF4",
        "outputId": "0459bff7-7a2e-4da6-e44e-9040ec4adea0"
      },
      "execution_count": 30,
      "outputs": [
        {
          "output_type": "stream",
          "name": "stdout",
          "text": [
            "{'employees': ['Mary', 'Joo-In', 'Hank', 'Jennifer'], 'salary': [102, 58, 115, 220]}\n",
            "  employees  salary\n",
            "0      Mary     102\n",
            "1    Joo-In      58\n",
            "2      Hank     115\n",
            "3  Jennifer     220\n"
          ]
        }
      ]
    },
    {
      "cell_type": "code",
      "source": [
        "df3= pd.merge(df1, df2)\n",
        "print(df3.head())"
      ],
      "metadata": {
        "colab": {
          "base_uri": "https://localhost:8080/"
        },
        "id": "-BVLPRzb1gZw",
        "outputId": "a9883f0c-0fe5-4c2d-f23a-afe157812fff"
      },
      "execution_count": 31,
      "outputs": [
        {
          "output_type": "stream",
          "name": "stdout",
          "text": [
            "  employees hire_date  salary\n",
            "0      Mary      2000     102\n",
            "1      Hank      1998     115\n",
            "2  Jennifer      1992     220\n",
            "3    Joo-In      2012      58\n"
          ]
        }
      ]
    },
    {
      "cell_type": "code",
      "source": [],
      "metadata": {
        "id": "8UIY-x8x3NRr"
      },
      "execution_count": null,
      "outputs": []
    },
    {
      "cell_type": "code",
      "source": [
        "# Practice, Pandas and Excel file format\n",
        "\n",
        "import pandas as pd\n",
        "import ExcelWriter as writer\n",
        "\n",
        "data = {('employees': 'Mary', 'Hank', 'Jennifer', 'Joo-In'), ('hire_date': '2000', '1998', '1992', '2012')}\n",
        "df1 = pd.DataFrame(data)\n",
        "\n",
        "print(df.head())\n",
        "file ='/contents/salary.xls.sheet1')\n",
        "df1.to_excel(writer, file)\n",
        "\n",
        "\n",
        "\n",
        "# Save df1 to Sheet1, df2 to Sheet2"
      ],
      "metadata": {
        "id": "xUTAesVmopJt"
      },
      "execution_count": null,
      "outputs": []
    },
    {
      "cell_type": "code",
      "source": [],
      "metadata": {
        "id": "mz-eyoiDopMx"
      },
      "execution_count": null,
      "outputs": []
    },
    {
      "cell_type": "code",
      "source": [],
      "metadata": {
        "id": "G9GlZVFbopPl"
      },
      "execution_count": null,
      "outputs": []
    },
    {
      "cell_type": "code",
      "source": [],
      "metadata": {
        "id": "Ytc5fvoSopSV"
      },
      "execution_count": null,
      "outputs": []
    }
  ]
}